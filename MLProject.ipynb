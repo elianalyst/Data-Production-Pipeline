{
 "cells": [
  {
   "cell_type": "markdown",
   "metadata": {},
   "source": [
    "<font size=\"4\"> Data Production Pipeline </font>"
   ]
  },
  {
   "cell_type": "code",
   "execution_count": 59,
   "metadata": {},
   "outputs": [],
   "source": [
    "import datetime\n",
    "import pandas as pd\n",
    "import argparse\n",
    "import seaborn as sns\n",
    "import matplotlib.pyplot as plt\n",
    "import numpy as np\n",
    "from sklearn.preprocessing import PolynomialFeatures, LabelEncoder, OneHotEncoder\n",
    "from sklearn import metrics, linear_model\n",
    "from sklearn.datasets import make_classification\n",
    "from sklearn.model_selection import train_test_split\n",
    "from sklearn.linear_model import Ridge\n",
    "import mlflow\n",
    "import mlflow.sklearn\n",
    "import logging\n",
    "import os\n",
    "import pickle\n",
    "import json\n",
    "import warnings\n",
    "warnings.filterwarnings('ignore')"
   ]
  },
  {
   "cell_type": "markdown",
   "metadata": {},
   "source": [
    "<font size=\"4\"> B: Import and Format Script (step 1) </font>"
   ]
  },
  {
   "cell_type": "code",
   "execution_count": 60,
   "metadata": {},
   "outputs": [],
   "source": [
    "airport=pd.read_csv('T_ONTIME_REPORTING.csv')"
   ]
  },
  {
   "cell_type": "markdown",
   "metadata": {},
   "source": [
    "Format"
   ]
  },
  {
   "cell_type": "code",
   "execution_count": 61,
   "metadata": {},
   "outputs": [],
   "source": [
    "#Rename columns\n",
    "airport.rename(columns={\n",
    "    'DAY_OF_MONTH': 'DAY',\n",
    "    'ORIGIN': 'ORG_AIRPORT',\n",
    "    'DEST_AIRPORT_ID':'DEST_AIRPORT',\n",
    "    'CRS_DEP_TIME': 'SCHEDULED_DEPARTURE',\n",
    "    'DEP_TIME': 'DEPARTURE_TIME',\n",
    "    'DEP_DELAY': 'DEPARTURE_DELAY',\n",
    "    'CRS_ARR_TIME': 'SCHEDULED_ARRIVAL',\n",
    "    'ARR_TIME': 'ARRIVAL_TIME',\n",
    "    'ARR_DELAY': 'ARRIVAL_DELAY'\n",
    "}, inplace=True)\n",
    "\n",
    "#drop columns\n",
    "airport.drop('ORIGIN_AIRPORT_ID', axis=1, inplace=True)\n",
    "airport.drop('DEST_CITY_NAME', axis=1, inplace=True)"
   ]
  },
  {
   "cell_type": "code",
   "execution_count": 62,
   "metadata": {},
   "outputs": [
    {
     "data": {
      "text/html": [
       "<div>\n",
       "<style scoped>\n",
       "    .dataframe tbody tr th:only-of-type {\n",
       "        vertical-align: middle;\n",
       "    }\n",
       "\n",
       "    .dataframe tbody tr th {\n",
       "        vertical-align: top;\n",
       "    }\n",
       "\n",
       "    .dataframe thead th {\n",
       "        text-align: right;\n",
       "    }\n",
       "</style>\n",
       "<table border=\"1\" class=\"dataframe\">\n",
       "  <thead>\n",
       "    <tr style=\"text-align: right;\">\n",
       "      <th></th>\n",
       "      <th>YEAR</th>\n",
       "      <th>MONTH</th>\n",
       "      <th>DAY</th>\n",
       "      <th>DAY_OF_WEEK</th>\n",
       "      <th>ORG_AIRPORT</th>\n",
       "      <th>DEST_AIRPORT</th>\n",
       "      <th>SCHEDULED_DEPARTURE</th>\n",
       "      <th>DEPARTURE_TIME</th>\n",
       "      <th>DEPARTURE_DELAY</th>\n",
       "      <th>SCHEDULED_ARRIVAL</th>\n",
       "      <th>ARRIVAL_TIME</th>\n",
       "      <th>ARRIVAL_DELAY</th>\n",
       "    </tr>\n",
       "  </thead>\n",
       "  <tbody>\n",
       "    <tr>\n",
       "      <th>0</th>\n",
       "      <td>2024</td>\n",
       "      <td>1</td>\n",
       "      <td>1</td>\n",
       "      <td>1</td>\n",
       "      <td>ABE</td>\n",
       "      <td>10397</td>\n",
       "      <td>600</td>\n",
       "      <td>558.0</td>\n",
       "      <td>-2.0</td>\n",
       "      <td>832</td>\n",
       "      <td>757.0</td>\n",
       "      <td>-35.0</td>\n",
       "    </tr>\n",
       "    <tr>\n",
       "      <th>1</th>\n",
       "      <td>2024</td>\n",
       "      <td>1</td>\n",
       "      <td>1</td>\n",
       "      <td>1</td>\n",
       "      <td>ABE</td>\n",
       "      <td>10397</td>\n",
       "      <td>1231</td>\n",
       "      <td>1240.0</td>\n",
       "      <td>9.0</td>\n",
       "      <td>1450</td>\n",
       "      <td>1437.0</td>\n",
       "      <td>-13.0</td>\n",
       "    </tr>\n",
       "    <tr>\n",
       "      <th>2</th>\n",
       "      <td>2024</td>\n",
       "      <td>1</td>\n",
       "      <td>1</td>\n",
       "      <td>1</td>\n",
       "      <td>ABE</td>\n",
       "      <td>11057</td>\n",
       "      <td>600</td>\n",
       "      <td>558.0</td>\n",
       "      <td>-2.0</td>\n",
       "      <td>803</td>\n",
       "      <td>758.0</td>\n",
       "      <td>-5.0</td>\n",
       "    </tr>\n",
       "    <tr>\n",
       "      <th>3</th>\n",
       "      <td>2024</td>\n",
       "      <td>1</td>\n",
       "      <td>1</td>\n",
       "      <td>1</td>\n",
       "      <td>ABE</td>\n",
       "      <td>11057</td>\n",
       "      <td>1158</td>\n",
       "      <td>1442.0</td>\n",
       "      <td>164.0</td>\n",
       "      <td>1357</td>\n",
       "      <td>1620.0</td>\n",
       "      <td>143.0</td>\n",
       "    </tr>\n",
       "    <tr>\n",
       "      <th>4</th>\n",
       "      <td>2024</td>\n",
       "      <td>1</td>\n",
       "      <td>1</td>\n",
       "      <td>1</td>\n",
       "      <td>ABE</td>\n",
       "      <td>11057</td>\n",
       "      <td>1713</td>\n",
       "      <td>1700.0</td>\n",
       "      <td>-13.0</td>\n",
       "      <td>1912</td>\n",
       "      <td>1839.0</td>\n",
       "      <td>-33.0</td>\n",
       "    </tr>\n",
       "  </tbody>\n",
       "</table>\n",
       "</div>"
      ],
      "text/plain": [
       "   YEAR  MONTH  DAY  DAY_OF_WEEK ORG_AIRPORT  DEST_AIRPORT  \\\n",
       "0  2024      1    1            1         ABE         10397   \n",
       "1  2024      1    1            1         ABE         10397   \n",
       "2  2024      1    1            1         ABE         11057   \n",
       "3  2024      1    1            1         ABE         11057   \n",
       "4  2024      1    1            1         ABE         11057   \n",
       "\n",
       "   SCHEDULED_DEPARTURE  DEPARTURE_TIME  DEPARTURE_DELAY  SCHEDULED_ARRIVAL  \\\n",
       "0                  600           558.0             -2.0                832   \n",
       "1                 1231          1240.0              9.0               1450   \n",
       "2                  600           558.0             -2.0                803   \n",
       "3                 1158          1442.0            164.0               1357   \n",
       "4                 1713          1700.0            -13.0               1912   \n",
       "\n",
       "   ARRIVAL_TIME  ARRIVAL_DELAY  \n",
       "0         757.0          -35.0  \n",
       "1        1437.0          -13.0  \n",
       "2         758.0           -5.0  \n",
       "3        1620.0          143.0  \n",
       "4        1839.0          -33.0  "
      ]
     },
     "execution_count": 62,
     "metadata": {},
     "output_type": "execute_result"
    }
   ],
   "source": [
    "#Confirm format matches the project requirement outlined in poly_regressor\n",
    "airport.head()"
   ]
  },
  {
   "cell_type": "markdown",
   "metadata": {},
   "source": [
    "DVC Command\n",
    "\n",
    "Create the Metafile"
   ]
  },
  {
   "cell_type": "code",
   "execution_count": 63,
   "metadata": {},
   "outputs": [],
   "source": [
    "#DVC Command \n",
    "#airport.to_csv('temp.csv', index=False)"
   ]
  },
  {
   "cell_type": "code",
   "execution_count": 64,
   "metadata": {},
   "outputs": [],
   "source": [
    "#!dvc add temp.csv"
   ]
  },
  {
   "cell_type": "markdown",
   "metadata": {},
   "source": [
    "Push and Commit to GitLab"
   ]
  },
  {
   "cell_type": "code",
   "execution_count": 65,
   "metadata": {},
   "outputs": [],
   "source": [
    "#verify file creation\n",
    "#!ls -la"
   ]
  },
  {
   "cell_type": "code",
   "execution_count": 66,
   "metadata": {},
   "outputs": [],
   "source": [
    "#Commit the Metafile\n",
    "#!git commit -m \"DVC Metafile\""
   ]
  },
  {
   "cell_type": "code",
   "execution_count": 67,
   "metadata": {},
   "outputs": [],
   "source": [
    "#Push the Metafile\n",
    "#!git push origin main"
   ]
  },
  {
   "cell_type": "markdown",
   "metadata": {},
   "source": [
    "<font size=\"4\"> C: Data Filtering Script (step 2) </font>\n",
    "\n",
    "Filter all airports to LAX"
   ]
  },
  {
   "cell_type": "code",
   "execution_count": 68,
   "metadata": {},
   "outputs": [
    {
     "data": {
      "text/plain": [
       "(547271, 12)"
      ]
     },
     "execution_count": 68,
     "metadata": {},
     "output_type": "execute_result"
    }
   ],
   "source": [
    "airport.shape"
   ]
  },
  {
   "cell_type": "code",
   "execution_count": 69,
   "metadata": {},
   "outputs": [
    {
     "data": {
      "text/plain": [
       "(15228, 12)"
      ]
     },
     "execution_count": 69,
     "metadata": {},
     "output_type": "execute_result"
    }
   ],
   "source": [
    "lax=airport[airport['ORG_AIRPORT'] == \"LAX\"]\n",
    "lax.shape"
   ]
  },
  {
   "cell_type": "markdown",
   "metadata": {},
   "source": [
    "Data Cleaning"
   ]
  },
  {
   "cell_type": "code",
   "execution_count": 70,
   "metadata": {},
   "outputs": [
    {
     "data": {
      "text/plain": [
       "YEAR                     0\n",
       "MONTH                    0\n",
       "DAY                      0\n",
       "DAY_OF_WEEK              0\n",
       "ORG_AIRPORT              0\n",
       "DEST_AIRPORT             0\n",
       "SCHEDULED_DEPARTURE      0\n",
       "DEPARTURE_TIME         464\n",
       "DEPARTURE_DELAY        464\n",
       "SCHEDULED_ARRIVAL        0\n",
       "ARRIVAL_TIME           491\n",
       "ARRIVAL_DELAY          517\n",
       "dtype: int64"
      ]
     },
     "execution_count": 70,
     "metadata": {},
     "output_type": "execute_result"
    }
   ],
   "source": [
    "#Check for Null values\n",
    "lax.isnull().sum()"
   ]
  },
  {
   "cell_type": "code",
   "execution_count": 71,
   "metadata": {},
   "outputs": [
    {
     "data": {
      "text/plain": [
       "(14711, 12)"
      ]
     },
     "execution_count": 71,
     "metadata": {},
     "output_type": "execute_result"
    }
   ],
   "source": [
    "#Departure and arrival time have about 500 null values, respectively. Dropping the null values\n",
    "#15,228 rows prior to drops\n",
    "lax.dropna(inplace=True)\n",
    "lax.shape"
   ]
  },
  {
   "cell_type": "code",
   "execution_count": 72,
   "metadata": {},
   "outputs": [
    {
     "name": "stdout",
     "output_type": "stream",
     "text": [
      "YEAR                     int64\n",
      "MONTH                    int64\n",
      "DAY                      int64\n",
      "DAY_OF_WEEK              int64\n",
      "ORG_AIRPORT             object\n",
      "DEST_AIRPORT             int64\n",
      "SCHEDULED_DEPARTURE      int64\n",
      "DEPARTURE_TIME         float64\n",
      "DEPARTURE_DELAY        float64\n",
      "SCHEDULED_ARRIVAL        int64\n",
      "ARRIVAL_TIME           float64\n",
      "ARRIVAL_DELAY          float64\n",
      "dtype: object\n"
     ]
    }
   ],
   "source": [
    "#Examine Data Types\n",
    "print(lax.dtypes)"
   ]
  },
  {
   "cell_type": "code",
   "execution_count": 73,
   "metadata": {},
   "outputs": [],
   "source": [
    "#Change data types\n",
    "lax['DEST_AIRPORT'] = lax['DEST_AIRPORT'].astype(str)\n",
    "lax['DEPARTURE_TIME'] = lax['DEPARTURE_TIME'].astype(int)\n",
    "lax['DEPARTURE_DELAY'] = lax['DEPARTURE_DELAY'].astype(int)\n",
    "lax['ARRIVAL_TIME'] = lax['ARRIVAL_TIME'].astype(int)\n",
    "lax['ARRIVAL_DELAY'] = lax['ARRIVAL_DELAY'].astype(int)"
   ]
  },
  {
   "cell_type": "code",
   "execution_count": 74,
   "metadata": {},
   "outputs": [],
   "source": [
    "#Output cleaned data\n",
    "#lax.to_csv('lax_airport_data', index=False)"
   ]
  },
  {
   "cell_type": "markdown",
   "metadata": {},
   "source": [
    "<font size=\"4\"> MLFlow Experiment </font>\n",
    "\n",
    "Set Up"
   ]
  },
  {
   "cell_type": "code",
   "execution_count": 75,
   "metadata": {},
   "outputs": [],
   "source": [
    "#Set Alphas\n",
    "num_alphas=20\n",
    "#Set Order\n",
    "order=3"
   ]
  },
  {
   "cell_type": "code",
   "execution_count": 76,
   "metadata": {},
   "outputs": [],
   "source": [
    "# read the data file\n",
    "df = pd.read_csv('/Users/elineiman/GIT/d602-deployment-task-2/MLProject/Data/lax_airport_data')\n",
    "tab_info=pd.DataFrame(df.dtypes).T.rename(index={0:'column type'})"
   ]
  },
  {
   "cell_type": "code",
   "execution_count": 77,
   "metadata": {},
   "outputs": [],
   "source": [
    "#Extract flight dates\n",
    "def grab_month_year(df:pd.DataFrame) -> tuple:\n",
    "    \"\"\"\n",
    "    grab_month_year is a function to extract the month and year of the flights in the departure delay dataset.\n",
    "\n",
    "    Parameters\n",
    "    ----------\n",
    "    df : pd.DataFrame\n",
    "        the input data set in Pandas data frame format.\n",
    "\n",
    "    Returns\n",
    "    -------\n",
    "    tuple\n",
    "        (month,year) of the data set.\n",
    "\n",
    "    Raises\n",
    "    ------\n",
    "    Exception\n",
    "        If more than one month or year are found in the data set.\n",
    "    \"\"\"\n",
    "    months = pd.unique(df['MONTH'])\n",
    "    years = pd.unique(df['YEAR'])\n",
    "    if len(months) >1:\n",
    "        raise Exception(\"Multiple months found in data set, only one acceptable\")\n",
    "    else:\n",
    "        month = int(months[0])\n",
    "    if len(years) > 1:\n",
    "        raise Exception(\"Multiple years found in data set, only one acceptable\")\n",
    "    else:\n",
    "        year = int(years[0])\n",
    "    return (month, year)"
   ]
  },
  {
   "cell_type": "code",
   "execution_count": 78,
   "metadata": {},
   "outputs": [],
   "source": [
    "#Convert to Datetime\n",
    "def format_hour(string: str) -> datetime:\n",
    "    \"\"\"\n",
    "    format_hour is a function to convert an 'HHMM' string input to a time in datetime format.\n",
    "\n",
    "    Parameters\n",
    "    ----------\n",
    "    string : string\n",
    "        An hour and minute in 'HHMM' format.\n",
    "\n",
    "    Returns\n",
    "    -------\n",
    "    datetime\n",
    "        An hour and minute (datetime.time).  Returns nan if input string is null.\n",
    "\n",
    "    \"\"\"    \n",
    "    if pd.isnull(string):\n",
    "        return np.nan\n",
    "    else:\n",
    "        if string == 2400: string = 0\n",
    "        string = \"{0:04d}\".format(int(string))\n",
    "        hour = datetime.time(int(string[0:2]), int(string[2:4]))\n",
    "        return hour\n",
    "\n",
    "def combine_date_hour(x: list) -> datetime:\n",
    "    \"\"\"\n",
    "    combine_date_hour is a function that combines a date and time to produce a datetime.datetime\n",
    "\n",
    "    Parameters\n",
    "    ----------\n",
    "    x : list\n",
    "        A list containing a date and a time in datetime format.\n",
    "\n",
    "    Returns\n",
    "    -------\n",
    "    datetime\n",
    "        A combined date and time in datetime format. Returns nan if time is null.\n",
    "\n",
    "    \"\"\"\n",
    "    if pd.isnull(x.iloc[0]) or pd.isnull(x.iloc[1]):\n",
    "        return np.nan\n",
    "    else:\n",
    "        return datetime.datetime.combine(x.iloc[0],x.iloc[1])\n",
    "\n",
    "\n",
    "def create_flight_time(df: pd.DataFrame, col: str) -> pd.Series:\n",
    "    \"\"\"\n",
    "    create_flight_time is a function that combines two columns of a data frame to produce a datetime.datetime series.\n",
    "\n",
    "    Parameters\n",
    "    ----------\n",
    "    df : pd.DataFrame\n",
    "        A data frame containing flight departure delay data\n",
    "    col: string\n",
    "        The name of one of the columns in the data frame containing flight departure delay data\n",
    "\n",
    "    Returns\n",
    "    -------\n",
    "    pd.Series\n",
    "        A Pandas series of datetimes with combined date and time\n",
    "\n",
    "    \"\"\"\n",
    "    list = []\n",
    "    for index, cols in df[['DATE', col]].iterrows():\n",
    "        if pd.isnull(cols.iloc[1]):\n",
    "            list.append(np.nan)\n",
    "        elif float(cols.iloc[1]) == 2400:\n",
    "            cols.iloc[0] += datetime.timedelta(days=1)\n",
    "            cols.iloc[1] = datetime.time(0,0)\n",
    "            list.append(combine_date_hour(cols))\n",
    "        else:\n",
    "            cols.iloc[1] = format_hour(cols.iloc[1])\n",
    "            list.append(combine_date_hour(cols))\n",
    "    return pd.Series(list)"
   ]
  },
  {
   "cell_type": "code",
   "execution_count": 79,
   "metadata": {},
   "outputs": [],
   "source": [
    "#Change Format\n",
    "def create_df(df: pd.DataFrame) -> pd.DataFrame:\n",
    "    \"\"\"\n",
    "    create_df is a function that wrangles data within a flight departure delay data frame into the format needed for ML training.\n",
    "\n",
    "    Parameters\n",
    "    ----------\n",
    "    df : pd.DataFrame\n",
    "        A data frame containing flight departure delay data\n",
    "\n",
    "    Returns\n",
    "    -------\n",
    "    pd.DataFrame\n",
    "        A Pandas data frame with modified columns and data formats suitable for regression model training\n",
    "\n",
    "    \"\"\"\n",
    "    df2 = df[['SCHEDULED_DEPARTURE','SCHEDULED_ARRIVAL',\n",
    "                                    'DEST_AIRPORT','DEPARTURE_DELAY']]\n",
    "    df2 = df2.dropna(how = 'any')\n",
    "    df2.loc[:,'weekday'] = df2['SCHEDULED_DEPARTURE'].apply(lambda x:x.weekday())\n",
    "    #____________________\n",
    "    # delete delays > 1h\n",
    "    df2.loc[:,'DEPARTURE_DELAY'] = df2['DEPARTURE_DELAY'].apply(lambda x:x if x < 60 else np.nan)\n",
    "    df2 = df2.dropna(how = 'any')\n",
    "    #_________________\n",
    "    # formating times\n",
    "    fct = lambda x:x.hour*3600+x.minute*60+x.second\n",
    "    df2.loc[:,'hour_depart'] = df2['SCHEDULED_DEPARTURE'].apply(lambda x:x.time())\n",
    "    df2.loc[:,'hour_depart'] = df2['hour_depart'].apply(fct)\n",
    "    df2.loc[:,'hour_arrive'] = df2['SCHEDULED_ARRIVAL'].apply(fct)\n",
    "    df2 = df2[['hour_depart','hour_arrive',\n",
    "            'DEST_AIRPORT','DEPARTURE_DELAY','weekday']]\n",
    "    df3 = df2.groupby(['hour_depart', 'hour_arrive', 'DEST_AIRPORT'],\n",
    "                      as_index = False).mean()\n",
    "    return df3"
   ]
  },
  {
   "cell_type": "code",
   "execution_count": 80,
   "metadata": {},
   "outputs": [],
   "source": [
    "#Change Format\n",
    "df['DATE'] = pd.to_datetime(df[['YEAR','MONTH', 'DAY']])\n",
    "(month,year) = grab_month_year(df)\n",
    "#logging.info(\"Month and year of data: %s %s\", month, year)\n",
    "df['SCHEDULED_DEPARTURE'] = create_flight_time(df, 'SCHEDULED_DEPARTURE')\n",
    "df['DEPARTURE_TIME'] = df['DEPARTURE_TIME'].apply(format_hour)\n",
    "df['SCHEDULED_ARRIVAL'] = df['SCHEDULED_ARRIVAL'].apply(format_hour)\n",
    "df['ARRIVAL_TIME'] = df['ARRIVAL_TIME'].apply(format_hour)"
   ]
  },
  {
   "cell_type": "code",
   "execution_count": 81,
   "metadata": {},
   "outputs": [],
   "source": [
    "# define training data as the first 3 weeks of the month, and test data as that from the fourth week of the month\n",
    "df_train = df[df['SCHEDULED_DEPARTURE'].apply(lambda x:x.date()) < datetime.date(year, month, 23)]\n",
    "df_test  = df[df['SCHEDULED_DEPARTURE'].apply(lambda x:x.date()) > datetime.date(year, month, 23)]"
   ]
  },
  {
   "cell_type": "code",
   "execution_count": 82,
   "metadata": {},
   "outputs": [],
   "source": [
    " #Training Data Frame\n",
    "df3 = create_df(df_train)"
   ]
  },
  {
   "cell_type": "code",
   "execution_count": 83,
   "metadata": {},
   "outputs": [],
   "source": [
    "# perform one-hot encoding of all destination airports in training data\n",
    "label_encoder = LabelEncoder()\n",
    "integer_encoded = label_encoder.fit_transform(df3['DEST_AIRPORT'])\n",
    "#_________________________________________________________\n",
    "zipped = zip(integer_encoded, df3['DEST_AIRPORT'])\n",
    "label_airports = list(set(list(zipped)))\n",
    "label_airports.sort(key = lambda x:x[0])\n",
    "#_________________________________________________\n",
    "onehot_encoder = OneHotEncoder(sparse_output=False)\n",
    "integer_encoded = integer_encoded.reshape(len(integer_encoded), 1)\n",
    "onehot_encoded = onehot_encoder.fit_transform(integer_encoded)\n",
    "#_________________________________________________\n",
    "b = np.array(df3[['hour_depart', 'hour_arrive']])\n",
    "X = np.hstack((onehot_encoded, b))\n",
    "Y = np.array(df3['DEPARTURE_DELAY'])\n",
    "Y = Y.reshape(len(Y), 1)\n",
    "#logging.info(\"Airport one-hot encoding successful\")"
   ]
  },
  {
   "cell_type": "code",
   "execution_count": 84,
   "metadata": {},
   "outputs": [],
   "source": [
    "# train/validation split at 30%\n",
    "X_train, X_validate, Y_train, Y_validate = train_test_split(X, Y, test_size=0.3)"
   ]
  },
  {
   "cell_type": "code",
   "execution_count": 86,
   "metadata": {},
   "outputs": [],
   "source": [
    "#Define Experiment\n",
    "nowdate = datetime.date.today()\n",
    "# creates an experiment name that changes every day\n",
    "experiment_name = \"Airport Departure Delays\" + str(nowdate)\n",
    "# creates new experiment if there is not one yet today, otherwise sets the experiment to the existing one for today\n",
    "#experiment = mlflow.set_experiment(experiment_name)\n",
    "run_name = \"Run started at \" + datetime.datetime.now().strftime(\"%H:%M\")"
   ]
  },
  {
   "cell_type": "code",
   "execution_count": 90,
   "metadata": {},
   "outputs": [],
   "source": [
    "#Run Experiment\n",
    "#with mlflow.start_run(experiment_id = experiment.experiment_id, run_name=run_name):\n",
    "score_min = 10000\n",
    "alpha_max = num_alphas * 2\n",
    "count = 1\n",
    "# loop through all alpha values\n",
    "for alpha in range(0, alpha_max, 2):\n",
    "    run_num = \"Training Run Number \" + str(count)\n",
    "    # create a Ridge regressor with the stated alpha\n",
    "    ridgereg = Ridge(alpha = alpha/10)\n",
    "    # create polynomial features based on the polyniomial order\n",
    "    poly = PolynomialFeatures(degree=order)\n",
    "    # fit the model using the training data\n",
    "    X_ = poly.fit_transform(X_train)\n",
    "    ridgereg.fit(X_, Y_train)\n",
    "    X_ = poly.fit_transform(X_validate)\n",
    "    # predict against the validation data\n",
    "    result = ridgereg.predict(X_)\n",
    "    # how well did the model do when compared to the validation actuals?\n",
    "    score = metrics.mean_squared_error(result, Y_validate)\n",
    "    #with mlflow.start_run(run_name = run_num,nested=True):\n",
    "        #mlflow.log_param(\"alpha\",alpha/10)\n",
    "        #mlflow.log_param(\"order\", order)\n",
    "        #mlflow.log_metric(\"Training Data Mean Squared Error\",score)\n",
    "        #mlflow.log_metric(\"Training Data Average Delay\",np.sqrt(score))\n",
    "    if score < score_min:\n",
    "        score_min = score\n",
    "        parameters = [alpha, order]\n",
    "    #logging.info(\"n={} alpha={} , MSE = {:<0.5}\".format(order, alpha/10, score))\n",
    "    count +=1\n",
    "# train and predict on validation data with optimal alpha found\n",
    "X_ = poly.fit_transform(X_validate)\n",
    "tresult = ridgereg.predict(X_)\n",
    "tscore = metrics.mean_squared_error(tresult, Y_validate)\n",
    "#logging.info('Training Data Final MSE = {}'.format(round(tscore, 2)))\n",
    "#mlflow.log_metric(\"Training Data Mean Squared Error\",tscore)\n",
    "#mlflow.log_metric(\"Training Data Average Delay\",np.sqrt(tscore))\n",
    "#mlflow.log_param(\"alpha\",alpha/10)\n",
    "#mlflow.log_param(\"order\", order)\n",
    "#logging.info(\"Successfully Logged Parameters:\")\n",
    "\n",
    "#run_id = mlflow.active_run().info.run_id\n",
    "#logged_params = mlflow.get_run(run_id).data.params\n",
    "#logging.info(\"Successfully Logged Parameters:\")\n",
    "#for key, value in logged_params.items():\n",
    "    #logging.info(f\"{key}: {value}\") \n",
    "\n",
    "#mlflow.end_run()\n",
    "#logging.info(\"Model training loop completed with %s iterations\", count-1)"
   ]
  },
  {
   "cell_type": "code",
   "execution_count": 91,
   "metadata": {},
   "outputs": [],
   "source": [
    "# create a data frame of the test data\n",
    "df3 = create_df(df_test)\n",
    "\n",
    "label_conversion = dict()\n",
    "for s in label_airports:\n",
    "    label_conversion[s[1]] = int(s[0])\n",
    "\n",
    "# export airport label conversion for test data to json file for later use\n",
    "jsonout = json.dumps(label_conversion)\n",
    "f = open(\"airport_encodings.json\",\"w\")\n",
    "\n",
    "# write json object to file\n",
    "f.write(jsonout)\n",
    "\n",
    "# close file\n",
    "f.close()\n",
    "#logging.info(\"Export of airport one-hot encoding successful\")\n",
    "df3.loc[:,'DEST_AIRPORT'] = df3.loc[:,'DEST_AIRPORT'].map(pd.Series(label_conversion))\n",
    "\n",
    "# manually one-hot encode destination airports for test data\n",
    "for index, label in label_airports:\n",
    "    temp = df3['DEST_AIRPORT'] == index\n",
    "    temp = temp.apply(lambda x:1.0 if x else 0.0)\n",
    "    if index == 0:\n",
    "        matrix = np.array(temp)\n",
    "    else:\n",
    "        matrix = np.vstack((matrix, temp))\n",
    "matrix = matrix.T\n",
    "\n",
    "b = np.array(df3[['hour_depart', 'hour_arrive']])\n",
    "X_test = np.hstack((matrix, b))\n",
    "Y_test = np.array(df3['DEPARTURE_DELAY'])\n",
    "Y_test = Y_test.reshape(len(Y_test), 1)\n",
    "#logging.info(\"Wrangling of test data successful\")"
   ]
  },
  {
   "cell_type": "code",
   "execution_count": 92,
   "metadata": {},
   "outputs": [],
   "source": [
    "# create polynomial features based on order\n",
    "X_ = poly.fit_transform(X_test)\n",
    "# predict on last week of month data\n",
    "result = ridgereg.predict(X_)\n",
    "score = metrics.mean_squared_error(result, Y_test)\n",
    "#logging.info('Test Data MSE = {}'.format(round(score, 2)))\n",
    "#logging.info(\"Predictions using test data successful\")\n",
    "#logging.info('Test Data average delay = {:.2f} min'.format(np.sqrt(score))) "
   ]
  },
  {
   "cell_type": "code",
   "execution_count": 93,
   "metadata": {},
   "outputs": [
    {
     "data": {
      "image/png": "[encoded data removed]",
      "text/plain": [
       "<Figure size 600x600 with 3 Axes>"
      ]
     },
     "metadata": {},
     "output_type": "display_data"
    }
   ],
   "source": [
    "# create and export model performance plot\n",
    "tips = pd.DataFrame()\n",
    "tips[\"prediction\"] = pd.Series([float(s) for s in result[:,0]]) \n",
    "tips[\"original_data\"] = pd.Series([float(s) for s in Y[:,0]]) \n",
    "sns.jointplot(x=\"original_data\", y=\"prediction\", data=tips, height = 6, ratio = 7,\n",
    "              joint_kws={'line_kws':{'color':'limegreen'}}, kind='reg')\n",
    "plt.xlabel('Mean delays (min)', fontsize = 15)\n",
    "plt.ylabel('Predictions (min)', fontsize = 15)\n",
    "plt.plot(list(range(-10,25)), list(range(-10,25)), linestyle = ':', color = 'r')\n",
    "plt.savefig(\"model_performance_test.jpg\",dpi=300)\n",
    "#logging.info(\"Model performance plot export successful\")"
   ]
  }
 ],
 "metadata": {
  "kernelspec": {
   "display_name": "base",
   "language": "python",
   "name": "python3"
  },
  "language_info": {
   "codemirror_mode": {
    "name": "ipython",
    "version": 3
   },
   "file_extension": ".py",
   "mimetype": "text/x-python",
   "name": "python",
   "nbconvert_exporter": "python",
   "pygments_lexer": "ipython3",
   "version": "3.11.8"
  }
 },
 "nbformat": 4,
 "nbformat_minor": 2
}
